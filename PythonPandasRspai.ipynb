{
  "nbformat": 4,
  "nbformat_minor": 0,
  "metadata": {
    "colab": {
      "name": "PythonPandasRspai.ipynb",
      "provenance": [],
      "collapsed_sections": [],
      "authorship_tag": "ABX9TyMbcQjvk+UnmofZCWXvStTu",
      "include_colab_link": true
    },
    "kernelspec": {
      "name": "python3",
      "display_name": "Python 3"
    },
    "language_info": {
      "name": "python"
    }
  },
  "cells": [
    {
      "cell_type": "markdown",
      "metadata": {
        "id": "view-in-github",
        "colab_type": "text"
      },
      "source": [
        "<a href=\"https://colab.research.google.com/github/RajendraPai/AutoHotkey_L-Docs/blob/master/PythonPandasRspai.ipynb\" target=\"_parent\"><img src=\"https://colab.research.google.com/assets/colab-badge.svg\" alt=\"Open In Colab\"/></a>"
      ]
    },
    {
      "cell_type": "code",
      "metadata": {
        "colab": {
          "base_uri": "https://localhost:8080/"
        },
        "id": "H02VLN_8oUk5",
        "outputId": "916d4ad4-302b-41a3-c462-607942ab1b38"
      },
      "source": [
        "print(\"Hello World\")"
      ],
      "execution_count": null,
      "outputs": [
        {
          "output_type": "stream",
          "text": [
            "Hello World\n"
          ],
          "name": "stdout"
        }
      ]
    },
    {
      "cell_type": "code",
      "metadata": {
        "colab": {
          "base_uri": "https://localhost:8080/"
        },
        "id": "INiaAQAbp9UE",
        "outputId": "14d9cc7a-5ce9-4f22-ae24-e63af0157373"
      },
      "source": [
        "import pandas as pd\n",
        "data = ([10,20],[30,40])\n",
        "df1 = pd.DataFrame(data)\n",
        "df1 = pd.DataFrame(data, columns=[\"C\",\"D\"])\n",
        "# df1 =df1[names[\"A\", \"B\"]] \n",
        "# df1.columns = [\"A\",\"B\"]\n",
        "print(df1)"
      ],
      "execution_count": 21,
      "outputs": [
        {
          "output_type": "stream",
          "text": [
            "    C   D\n",
            "0  10  20\n",
            "1  30  40\n"
          ],
          "name": "stdout"
        }
      ]
    },
    {
      "cell_type": "code",
      "metadata": {
        "id": "CwNIgNbEqQlb"
      },
      "source": [
        ""
      ],
      "execution_count": null,
      "outputs": []
    }
  ]
}